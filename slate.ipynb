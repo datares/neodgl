{
 "cells": [
  {
   "cell_type": "code",
   "execution_count": 1,
   "metadata": {},
   "outputs": [
    {
     "name": "stderr",
     "output_type": "stream",
     "text": [
      "Using backend: pytorch\n"
     ]
    }
   ],
   "source": [
    "import neo4j\n",
    "from neo4j import GraphDatabase\n",
    "from neo4j.graph import Node, Relationship\n",
    "import pandas as pd\n",
    "import dgl\n",
    "import matplotlib.pyplot as plt\n",
    "import numpy as np"
   ]
  },
  {
   "cell_type": "code",
   "execution_count": 23,
   "metadata": {},
   "outputs": [],
   "source": [
    "class edge_list():\n",
    "    \"\"\"Class to run LinkPred\"\"\"\n",
    "    def __init__(self) -> None:\n",
    "        self.driver = GraphDatabase.driver(\"neo4j://localhost:7687\", auth=(\"neo4j\", \"quickstart\"))\n",
    "\n",
    "    def close(self) -> None:\n",
    "        self.driver.close()\n",
    "\n",
    "    @classmethod\n",
    "    def edge_list(cls, tx) -> any:\n",
    "        query = (\"\"\"\n",
    "                    MATCH path=(m)--(n)\n",
    "                    RETURN m.id AS u, n.id AS v\n",
    "                \"\"\")\n",
    "        result = tx.run(query)\n",
    "        #return a dataframe\n",
    "        return result.data() \n",
    "\n",
    "    def get_edge_list(self) -> any:\n",
    "        result = self.driver.session().write_transaction(self.edge_list)\n",
    "        return pd.DataFrame(result)\n",
    "\n",
    "    def dgl_graph_from_cypher(self, data: pd.DataFrame) -> None:\n",
    "        \"\"\"\n",
    "        Takes the whole graph and creates dgl graph\n",
    "\n",
    "        ARGS:\n",
    "            data is the edge list in a pandas df\n",
    "            \n",
    "        RETURNS: dgl graph\n",
    "        \"\"\"\n",
    "        u = data[\"u\"].to_numpy()\n",
    "        v = data[\"v\"].to_numpy()\n",
    "        #Building diagram\n",
    "        return dgl.DGLGraph((u, v))\n",
    "\n"
   ]
  },
  {
   "cell_type": "code",
   "execution_count": null,
   "metadata": {},
   "outputs": [],
   "source": []
  },
  {
   "cell_type": "code",
   "execution_count": 25,
   "metadata": {},
   "outputs": [
    {
     "name": "stdout",
     "output_type": "stream",
     "text": [
      "We have 34 nodes.\n",
      "We have 312 edges.\n"
     ]
    },
    {
     "name": "stderr",
     "output_type": "stream",
     "text": [
      "c:\\Users\\irsya\\anaconda3\\lib\\site-packages\\dgl\\base.py:45: DGLWarning: Recommend creating graphs by `dgl.graph(data)` instead of `dgl.DGLGraph(data)`.\n",
      "  return warnings.warn(message, category=category, stacklevel=1)\n"
     ]
    }
   ],
   "source": [
    "hello = edge_list()\n",
    "data = hello.dgl_graph_from_cypher(hello.get_edge_list())\n",
    "print('We have %d nodes.'% data.number_of_nodes())\n",
    "print('We have %d edges.'% data.number_of_edges())"
   ]
  },
  {
   "cell_type": "code",
   "execution_count": null,
   "metadata": {},
   "outputs": [],
   "source": []
  }
 ],
 "metadata": {
  "interpreter": {
   "hash": "2e05ccb1f1b3a6aff65d94e086e28a7ae11c8b790ca54c8c70ee9234cfdcb446"
  },
  "kernelspec": {
   "display_name": "Python 3.8.3 ('base')",
   "language": "python",
   "name": "python3"
  },
  "language_info": {
   "codemirror_mode": {
    "name": "ipython",
    "version": 3
   },
   "file_extension": ".py",
   "mimetype": "text/x-python",
   "name": "python",
   "nbconvert_exporter": "python",
   "pygments_lexer": "ipython3",
   "version": "3.8.3"
  },
  "orig_nbformat": 4
 },
 "nbformat": 4,
 "nbformat_minor": 2
}
